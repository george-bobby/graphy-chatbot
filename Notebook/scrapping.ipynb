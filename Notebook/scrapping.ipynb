{
 "cells": [
  {
   "cell_type": "code",
   "execution_count": 9,
   "metadata": {},
   "outputs": [
    {
     "name": "stdout",
     "output_type": "stream",
     "text": [
      "Created JSON File: books.json\n"
     ]
    }
   ],
   "source": [
    "import requests\n",
    "from bs4 import BeautifulSoup\n",
    "import json\n",
    "\n",
    "# URL to scrape\n",
    "url = \"https://www.kseebsolutions.com/kseeb-solutions-for-class-6-social-science-chapter-2-part-1/\"\n",
    "\n",
    "# Send an HTTP request to the website\n",
    "response = requests.get(url)\n",
    "response.raise_for_status()  # Ensure we handle HTTP request errors\n",
    "\n",
    "# Parse the HTML content of the page\n",
    "soup = BeautifulSoup(response.text, 'html.parser')\n",
    "\n",
    "# Extract content (headings, paragraphs, and lists)\n",
    "data = {\n",
    "    # H2 headings\n",
    "    \"headings\": [h.get_text(strip=True) for h in soup.find_all('h2')],\n",
    "    # Paragraph text\n",
    "    \"paragraphs\": [p.get_text(strip=True) for p in soup.find_all('p')],\n",
    "    # List items\n",
    "    \"list_items\": [li.get_text(strip=True) for li in soup.find_all('li')]\n",
    "}\n",
    "\n",
    "# Save extracted data to a JSON file\n",
    "with open('books.json', 'w', encoding='utf-8') as f:\n",
    "    json.dump(data, f, indent=8, ensure_ascii=False)\n",
    "\n",
    "print(\"Created JSON File: books.json\")"
   ]
  },
  {
   "cell_type": "code",
   "execution_count": 10,
   "metadata": {},
   "outputs": [
    {
     "name": "stdout",
     "output_type": "stream",
     "text": [
      "Generated Q&A JSON File: questions_and_answers.json\n"
     ]
    }
   ],
   "source": [
    "import json\n",
    "from langchain.prompts import PromptTemplate\n",
    "from langchain.chains import LLMChain\n",
    "from langchain_google_genai import ChatGoogleGenerativeAI\n",
    "import getpass\n",
    "import os\n",
    "\n",
    "# Set up the Google API key\n",
    "if 'GOOGLE_API_KEY' not in os.environ:\n",
    "    os.environ['GOOGLE_API_KEY'] = getpass.getpass(\n",
    "        'Provide your Google API Key: ')\n",
    "\n",
    "try:\n",
    "    # Step 1: Load JSON Content\n",
    "    with open('books.json', 'r', encoding='utf-8') as f:\n",
    "        data = json.load(f)\n",
    "\n",
    "    # Step 2: Combine Content for Input\n",
    "    # Safely fetch 'paragraphs'\n",
    "    content = \"\\n\".join(data.get('paragraphs', []))\n",
    "\n",
    "    if not content:\n",
    "        raise ValueError(\n",
    "            \"The JSON file does not contain 'paragraphs' or it's empty.\")\n",
    "\n",
    "    # Step 3: Define the Prompt Template\n",
    "    qa_prompt = PromptTemplate(\n",
    "        input_variables=[\"text\"],\n",
    "        template=(\n",
    "            \"Given the following educational content, which has a set of multiple choice questions and answers, extract key questions and their answers options:\\n\\n\"\n",
    "            \"{text}\\n\\n\"\n",
    "            \"Format the output as:\\n\"\n",
    "            \"1. Question: <Your question>\\n   Options:<Your Options> \\n Answer: <Your answer>\\n\"\n",
    "            \"2. Question: <Your question>\\n   Options:<Your Options> \\n Answer: <Your answer>\\n\"\n",
    "        )\n",
    "    )\n",
    "\n",
    "    # Step 4: Set Up the LLM\n",
    "    llm = ChatGoogleGenerativeAI(model='gemini-pro', temperature=0.3)\n",
    "    qa_chain = LLMChain(llm=llm, prompt=qa_prompt)\n",
    "\n",
    "    # Step 5: Generate Questions and Answers\n",
    "    response = qa_chain.run(text=content)\n",
    "\n",
    "    if not response.strip():\n",
    "        raise ValueError(\n",
    "            \"The LLM returned an empty response. Check the input or model settings.\")\n",
    "\n",
    "    # Step 6: Save the Output\n",
    "    output_data = {\n",
    "        \"questions_and_answers\": [\n",
    "            {\"question\": q.strip(), \"answer\": a.strip()}\n",
    "            for q, a in [pair.split(\"Answer:\") for pair in response.split(\"Question:\") if \"Answer:\" in pair]\n",
    "        ]\n",
    "    }\n",
    "\n",
    "    with open('questions_and_answers.json', 'w', encoding='utf-8') as f:\n",
    "        json.dump(output_data, f, indent=4, ensure_ascii=False)\n",
    "\n",
    "    print(\"Generated Q&A JSON File: questions_and_answers.json\")\n",
    "\n",
    "except json.JSONDecodeError:\n",
    "    print(\"Error: Failed to decode the JSON file. Please check the file format.\")\n",
    "except ValueError as e:\n",
    "    print(f\"Error: {e}\")\n",
    "except Exception as e:\n",
    "    print(f\"Unexpected Error: {e}\")"
   ]
  }
 ],
 "metadata": {
  "kernelspec": {
   "display_name": "Python 3",
   "language": "python",
   "name": "python3"
  },
  "language_info": {
   "codemirror_mode": {
    "name": "ipython",
    "version": 3
   },
   "file_extension": ".py",
   "mimetype": "text/x-python",
   "name": "python",
   "nbconvert_exporter": "python",
   "pygments_lexer": "ipython3",
   "version": "3.11.9"
  }
 },
 "nbformat": 4,
 "nbformat_minor": 2
}

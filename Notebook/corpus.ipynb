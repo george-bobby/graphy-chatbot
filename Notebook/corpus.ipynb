{
 "cells": [
  {
   "cell_type": "code",
   "execution_count": 6,
   "metadata": {},
   "outputs": [],
   "source": [
    "import os\n",
    "from langchain_experimental.graph_transformers import LLMGraphTransformer\n",
    "from langchain_core.documents import Document\n",
    "from langchain_community.graphs import Neo4jGraph"
   ]
  },
  {
   "cell_type": "code",
   "execution_count": 7,
   "metadata": {},
   "outputs": [],
   "source": [
    "NEO4J_URI = \"neo4j+s://31f3573b.databases.neo4j.io\"\n",
    "NEO4J_USER = \"neo4j\"\n",
    "NEO4J_PASSWORD = \"vsrBFKBajDgj0RqoC1HVEKCvdkJsT25KccZ-c7A2Fz0\"\n",
    "\n",
    "graph = Neo4jGraph(\n",
    "    url=NEO4J_URI,\n",
    "    username=NEO4J_USER,\n",
    "    password=NEO4J_PASSWORD\n",
    ")"
   ]
  },
  {
   "cell_type": "code",
   "execution_count": null,
   "metadata": {},
   "outputs": [],
   "source": [
    "from langchain_openai import ChatOpenAI\n",
    "OPENAI_API_KEY = \"add it here\"\n",
    "llm = ChatOpenAI(temperature=0, model_name=\"gpt-4o-mini\",\n",
    "                 openai_api_key=OPENAI_API_KEY)\n",
    "llm_transformer = LLMGraphTransformer(llm=llm)"
   ]
  },
  {
   "cell_type": "code",
   "execution_count": 9,
   "metadata": {},
   "outputs": [
    {
     "name": "stdout",
     "output_type": "stream",
     "text": [
      "Nodes: [Node(id='Web_Application', type='Application', properties={}), Node(id='Frontend', type='Component', properties={}), Node(id='Backend', type='Component', properties={}), Node(id='Rest_Api', type='Api', properties={}), Node(id='Mongodb', type='Database', properties={}), Node(id='Users', type='User', properties={}), Node(id='Aws', type='Cloud_service', properties={}), Node(id='S3', type='Storage_service', properties={}), Node(id='Ec2', type='Compute_service', properties={}), Node(id='Load_Balancer', type='Load_balancer', properties={}), Node(id='Api_Gateway', type='Gateway', properties={}), Node(id='Lambda_Functions', type='Function', properties={}), Node(id='Redis_Cache', type='Cache', properties={}), Node(id='Websocket_Connections', type='Connection', properties={}), Node(id='Prometheus', type='Monitoring_tool', properties={}), Node(id='Grafana', type='Visualization_tool', properties={}), Node(id='Elk_Stack', type='Logging_tool', properties={}), Node(id='Ci_Cd_Pipelines', type='Pipeline', properties={}), Node(id='Github_Actions', type='Tool', properties={}), Node(id='Docker', type='Containerization_tool', properties={}), Node(id='Kubernetes', type='Orchestration_tool', properties={}), Node(id='Microservices_Architecture', type='Architecture', properties={}), Node(id='Admin', type='User_role', properties={}), Node(id='Editor', type='User_role', properties={}), Node(id='Viewer', type='User_role', properties={})]\n",
      "Relationships: [Relationship(source=Node(id='Web_Application', type='Application', properties={}), target=Node(id='Frontend', type='Component', properties={}), type='HAS_COMPONENT', properties={}), Relationship(source=Node(id='Web_Application', type='Application', properties={}), target=Node(id='Backend', type='Component', properties={}), type='HAS_COMPONENT', properties={}), Relationship(source=Node(id='Frontend', type='Component', properties={}), target=Node(id='Rest_Api', type='Api', properties={}), type='INTERACTS_WITH', properties={}), Relationship(source=Node(id='Backend', type='Component', properties={}), target=Node(id='Rest_Api', type='Api', properties={}), type='HANDLES', properties={}), Relationship(source=Node(id='Backend', type='Component', properties={}), target=Node(id='Mongodb', type='Database', properties={}), type='CONNECTS_TO', properties={}), Relationship(source=Node(id='Users', type='User', properties={}), target=Node(id='Jwt_Based_Authentication', type='Authentication_method', properties={}), type='AUTHENTICATES_WITH', properties={}), Relationship(source=Node(id='Users', type='User', properties={}), target=Node(id='Bcrypt', type='Hashing_tool', properties={}), type='USES', properties={}), Relationship(source=Node(id='Users', type='User', properties={}), target=Node(id='Rbac', type='Access_control', properties={}), type='IMPLEMENTS', properties={}), Relationship(source=Node(id='Web_Application', type='Application', properties={}), target=Node(id='Aws', type='Cloud_service', properties={}), type='HOSTED_ON', properties={}), Relationship(source=Node(id='Aws', type='Cloud_service', properties={}), target=Node(id='S3', type='Storage_service', properties={}), type='UTILIZES', properties={}), Relationship(source=Node(id='Aws', type='Cloud_service', properties={}), target=Node(id='Ec2', type='Compute_service', properties={}), type='UTILIZES', properties={}), Relationship(source=Node(id='Aws', type='Cloud_service', properties={}), target=Node(id='Load_Balancer', type='Load_balancer', properties={}), type='UTILIZES', properties={}), Relationship(source=Node(id='Load_Balancer', type='Load_balancer', properties={}), target=Node(id='Ec2', type='Compute_service', properties={}), type='DISTRIBUTES_TRAFFIC_TO', properties={}), Relationship(source=Node(id='Web_Application', type='Application', properties={}), target=Node(id='Api_Gateway', type='Gateway', properties={}), type='MANAGES', properties={}), Relationship(source=Node(id='Web_Application', type='Application', properties={}), target=Node(id='Lambda_Functions', type='Function', properties={}), type='DEPLOYS', properties={}), Relationship(source=Node(id='Backend', type='Component', properties={}), target=Node(id='Redis_Cache', type='Cache', properties={}), type='INTEGRATES_WITH', properties={}), Relationship(source=Node(id='Web_Application', type='Application', properties={}), target=Node(id='Websocket_Connections', type='Connection', properties={}), type='ENABLES', properties={}), Relationship(source=Node(id='Web_Application', type='Application', properties={}), target=Node(id='Prometheus', type='Monitoring_tool', properties={}), type='MONITORED_BY', properties={}), Relationship(source=Node(id='Web_Application', type='Application', properties={}), target=Node(id='Grafana', type='Visualization_tool', properties={}), type='VISUALIZED_BY', properties={}), Relationship(source=Node(id='Web_Application', type='Application', properties={}), target=Node(id='Elk_Stack', type='Logging_tool', properties={}), type='MANAGED_BY', properties={}), Relationship(source=Node(id='Web_Application', type='Application', properties={}), target=Node(id='Ci_Cd_Pipelines', type='Pipeline', properties={}), type='IMPLEMENTS', properties={}), Relationship(source=Node(id='Ci_Cd_Pipelines', type='Pipeline', properties={}), target=Node(id='Github_Actions', type='Tool', properties={}), type='USES', properties={}), Relationship(source=Node(id='Ci_Cd_Pipelines', type='Pipeline', properties={}), target=Node(id='Docker', type='Containerization_tool', properties={}), type='USES', properties={}), Relationship(source=Node(id='Backend', type='Component', properties={}), target=Node(id='Kubernetes', type='Orchestration_tool', properties={}), type='ORCHESTRATED_BY', properties={}), Relationship(source=Node(id='Web_Application', type='Application', properties={}), target=Node(id='Microservices_Architecture', type='Architecture', properties={}), type='FOLLOWS', properties={}), Relationship(source=Node(id='Users', type='User', properties={}), target=Node(id='Admin', type='User_role', properties={}), type='HAS_ROLE', properties={}), Relationship(source=Node(id='Users', type='User', properties={}), target=Node(id='Editor', type='User_role', properties={}), type='HAS_ROLE', properties={}), Relationship(source=Node(id='Users', type='User', properties={}), target=Node(id='Viewer', type='User_role', properties={}), type='HAS_ROLE', properties={})]\n"
     ]
    }
   ],
   "source": [
    "from langchain.schema import Document\n",
    "from langchain_experimental.graph_transformers.llm import LLMGraphTransformer\n",
    "\n",
    "# Sample document\n",
    "text = \"\"\"\n",
    "A web application consists of a frontend built using React and a backend developed with\n",
    "Node.js and Express. The frontend interacts with the backend via a REST API, which handles\n",
    "HTTP requests for user authentication, data retrieval, and business logic execution. The\n",
    "backend connects to a MongoDB database, which stores user information, transaction\n",
    "records, and system logs.\n",
    "Users authenticate using JWT-based authentication, ensuring secure access control.\n",
    "Passwords are hashed using bcrypt before storage. Role-based access control (RBAC) is\n",
    "implemented, allowing different user roles such as Admin, Editor, and Viewer, each with\n",
    "specific permissions.\n",
    "The application is hosted on AWS, utilizing S3 for file storage and EC2 for server deployment.\n",
    "A load balancer distributes incoming traffic to multiple EC2 instances, ensuring high\n",
    "availability. API Gateway is used to manage API requests, and Lambda functions are\n",
    "deployed for serverless execution of background tasks.\n",
    "For performance optimization, a Redis cache is integrated to reduce database queries by\n",
    "caching frequently accessed data. WebSocket connections are used for real-time updates,\n",
    "enabling features like live notifications and chat functionality.\n",
    "The system is monitored using Prometheus for collecting metrics and Grafana for\n",
    "visualization. Logging is managed using the ELK stack (Elasticsearch, Logstash, and Kibana),\n",
    "allowing efficient debugging and analysis of system behavior.\n",
    "CI/CD pipelines are implemented with GitHub Actions and Docker, enabling automated\n",
    "testing and deployment. The backend services are containerized using Docker and\n",
    "orchestrated with Kubernetes, ensuring scalability and fault tolerance. The application\n",
    "follows a microservices architecture, with independent services handling authentication,\n",
    "payment processing, and analytics.\n",
    "\"\"\"\n",
    "\n",
    "# Convert text into a Document\n",
    "documents = [Document(page_content=text)]\n",
    "\n",
    "# Initialize LLMGraphTransformer\n",
    "# Replace `chain=None` with the actual chain\n",
    "llm_transformer = LLMGraphTransformer(llm)\n",
    "\n",
    "# Process the document into graph data\n",
    "try:\n",
    "    graph_documents = llm_transformer.convert_to_graph_documents(documents)\n",
    "    for graph_doc in graph_documents:\n",
    "        print(\"Nodes:\", graph_doc.nodes)\n",
    "        print(\"Relationships:\", graph_doc.relationships)\n",
    "except Exception as e:\n",
    "    print(\"Error:\", str(e))"
   ]
  },
  {
   "cell_type": "code",
   "execution_count": 10,
   "metadata": {},
   "outputs": [],
   "source": [
    "graph.add_graph_documents(graph_documents)"
   ]
  }
 ],
 "metadata": {
  "kernelspec": {
   "display_name": "Python 3",
   "language": "python",
   "name": "python3"
  },
  "language_info": {
   "codemirror_mode": {
    "name": "ipython",
    "version": 3
   },
   "file_extension": ".py",
   "mimetype": "text/x-python",
   "name": "python",
   "nbconvert_exporter": "python",
   "pygments_lexer": "ipython3",
   "version": "3.11.9"
  }
 },
 "nbformat": 4,
 "nbformat_minor": 2
}

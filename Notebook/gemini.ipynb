{
 "cells": [
  {
   "cell_type": "code",
   "execution_count": 1,
   "metadata": {},
   "outputs": [
    {
     "data": {
      "text/plain": [
       "True"
      ]
     },
     "execution_count": 1,
     "metadata": {},
     "output_type": "execute_result"
    }
   ],
   "source": [
    "from dotenv import load_dotenv, find_dotenv\n",
    "load_dotenv(find_dotenv(), override=True)"
   ]
  },
  {
   "cell_type": "code",
   "execution_count": 2,
   "metadata": {},
   "outputs": [],
   "source": [
    "import getpass\n",
    "import os\n",
    "if 'GOOGLE_API_KEY' not in os.environ:\n",
    "    os.environ['GOOGLE_API_KEY'] = getpass.getpass('Provide your Google API Key: ')"
   ]
  },
  {
   "cell_type": "code",
   "execution_count": 4,
   "metadata": {},
   "outputs": [
    {
     "name": "stdout",
     "output_type": "stream",
     "text": [
      "models/chat-bison-001\n",
      "models/text-bison-001\n",
      "models/embedding-gecko-001\n",
      "models/gemini-1.0-pro-latest\n",
      "models/gemini-1.0-pro\n",
      "models/gemini-pro\n",
      "models/gemini-1.0-pro-001\n",
      "models/gemini-1.0-pro-vision-latest\n",
      "models/gemini-pro-vision\n",
      "models/gemini-1.5-pro-latest\n",
      "models/gemini-1.5-pro-001\n",
      "models/gemini-1.5-pro-002\n",
      "models/gemini-1.5-pro\n",
      "models/gemini-1.5-pro-exp-0801\n",
      "models/gemini-1.5-pro-exp-0827\n",
      "models/gemini-1.5-flash-latest\n",
      "models/gemini-1.5-flash-001\n",
      "models/gemini-1.5-flash-001-tuning\n",
      "models/gemini-1.5-flash\n",
      "models/gemini-1.5-flash-exp-0827\n",
      "models/gemini-1.5-flash-002\n",
      "models/gemini-1.5-flash-8b\n",
      "models/gemini-1.5-flash-8b-001\n",
      "models/gemini-1.5-flash-8b-latest\n",
      "models/gemini-1.5-flash-8b-exp-0827\n",
      "models/gemini-1.5-flash-8b-exp-0924\n",
      "models/gemini-2.0-flash-exp\n",
      "models/gemini-exp-1206\n",
      "models/gemini-exp-1121\n",
      "models/gemini-exp-1114\n",
      "models/gemini-2.0-flash-thinking-exp\n",
      "models/gemini-2.0-flash-thinking-exp-1219\n",
      "models/learnlm-1.5-pro-experimental\n",
      "models/embedding-001\n",
      "models/text-embedding-004\n",
      "models/aqa\n"
     ]
    }
   ],
   "source": [
    "import google.generativeai as genai\n",
    "for model in genai.list_models():\n",
    "    print(model.name)"
   ]
  },
  {
   "cell_type": "code",
   "execution_count": 5,
   "metadata": {},
   "outputs": [
    {
     "name": "stdout",
     "output_type": "stream",
     "text": [
      "In the year 2100, Mars has become a thriving frontier for humanity. Terraforming efforts have transformed its once barren landscape into a vibrant world, complete with lush greenery, sparkling waterways, and breathable air. Martian colonists reside in domed cities that protect them from the remaining radiation, while terraformed areas provide ample space for agriculture, research, and exploration. Rovers roam the planet, gathering data on its geological formations and potential resources. International collaborations drive scientific advancements, and the Martian community fosters a sense of unity and purpose. With its vast expanses, unexplored mysteries, and burgeoning population, life on Mars in 2100 represents a bold chapter in humanity's interstellar journey, promising both challenges and limitless possibilities.\n"
     ]
    }
   ],
   "source": [
    "from langchain_google_genai import ChatGoogleGenerativeAI\n",
    "\n",
    "# Create an instance of the LLM, using the 'gemini-pro' model with a specified creativity level\n",
    "llm = ChatGoogleGenerativeAI(model='gemini-pro', temperature=0.9)\n",
    "\n",
    "# Send a creative prompt to the LLM\n",
    "response = llm.invoke('Write a paragraph about life on Mars in year 2100.')\n",
    "print(response.content)"
   ]
  },
  {
   "cell_type": "code",
   "execution_count": 6,
   "metadata": {},
   "outputs": [
    {
     "name": "stderr",
     "output_type": "stream",
     "text": [
      "C:\\Users\\georg\\AppData\\Local\\Temp\\ipykernel_9556\\4107852785.py:8: LangChainDeprecationWarning: The class `LLMChain` was deprecated in LangChain 0.1.17 and will be removed in 1.0. Use :meth:`~RunnableSequence, e.g., `prompt | llm`` instead.\n",
      "  chain = LLMChain(llm=llm, prompt=prompt, verbose=True)\n"
     ]
    },
    {
     "name": "stdout",
     "output_type": "stream",
     "text": [
      "\n",
      "\n",
      "\u001b[1m> Entering new LLMChain chain...\u001b[0m\n",
      "Prompt after formatting:\n",
      "\u001b[32;1m\u001b[1;3mYou are a content creator. Write me a tweet about Why will AI change the world\u001b[0m\n",
      "\n",
      "\u001b[1m> Finished chain.\u001b[0m\n",
      "{'topic': 'Why will AI change the world', 'text': \"🤯 Get ready for a tech revolution! 🤖 AI is poised to transform every aspect of life as we know it. From personalized medicine to self-driving cars, the possibilities are endless. Here's why AI will change the world: #AIRevolution\"}\n"
     ]
    }
   ],
   "source": [
    "from langchain.prompts import PromptTemplate\n",
    "from langchain.chains import LLMChain\n",
    "\n",
    "# Set up a prompt template\n",
    "prompt = PromptTemplate.from_template('You are a content creator. Write me a tweet about {topic}')\n",
    "\n",
    "# Create a chain that utilizes both the LLM and the prompt template\n",
    "chain = LLMChain(llm=llm, prompt=prompt, verbose=True)\n",
    "topic = 'Why will AI change the world'\n",
    "response = chain.invoke(input=topic)\n",
    "print(response)"
   ]
  },
  {
   "cell_type": "code",
   "execution_count": 7,
   "metadata": {},
   "outputs": [
    {
     "name": "stderr",
     "output_type": "stream",
     "text": [
      "C:\\Users\\georg\\AppData\\Local\\Packages\\PythonSoftwareFoundation.Python.3.11_qbz5n2kfra8p0\\LocalCache\\local-packages\\Python311\\site-packages\\langchain_google_genai\\chat_models.py:310: UserWarning: Convert_system_message_to_human will be deprecated!\n",
      "  warnings.warn(\"Convert_system_message_to_human will be deprecated!\")\n"
     ]
    },
    {
     "name": "stdout",
     "output_type": "stream",
     "text": [
      "NON\n"
     ]
    }
   ],
   "source": [
    "from langchain_core.messages import HumanMessage, SystemMessage\n",
    "\n",
    "# Setup with system message conversion\n",
    "llm = ChatGoogleGenerativeAI(model='gemini-pro', convert_system_message_to_human=True)\n",
    "output = llm.invoke([\n",
    "    SystemMessage(content='Answer only YES or NO in French.'),\n",
    "    HumanMessage(content='Is fish a mammal?')\n",
    "])\n",
    "print(output.content)"
   ]
  },
  {
   "cell_type": "code",
   "execution_count": 8,
   "metadata": {},
   "outputs": [
    {
     "name": "stderr",
     "output_type": "stream",
     "text": [
      "C:\\Users\\georg\\AppData\\Local\\Packages\\PythonSoftwareFoundation.Python.3.11_qbz5n2kfra8p0\\LocalCache\\local-packages\\Python311\\site-packages\\langchain_google_genai\\chat_models.py:310: UserWarning: Convert_system_message_to_human will be deprecated!\n",
      "  warnings.warn(\"Convert_system_message_to_human will be deprecated!\")\n"
     ]
    },
    {
     "name": "stdout",
     "output_type": "stream",
     "text": [
      "## The Mathematical Foundation of Our Universe\n",
      "\n",
      "### Abstract\n",
      "\n",
      "The universe we live in\n",
      "----------------------------------------------------------------------------------------------------\n",
      " is governed by a set of fundamental laws that can be expressed mathematically. These laws describe the behavior of matter, energy, space, and time, and they provide\n",
      "----------------------------------------------------------------------------------------------------\n",
      " a framework for understanding the evolution and structure of the universe. In this paper, we will explore the mathematical foundation of our universe, focusing on the key equations that govern its behavior.\n",
      "\n",
      "### Introduction\n",
      "\n",
      "The scientific understanding of the universe has undergone a profound transformation over the past century, thanks in large part to the development of\n",
      "----------------------------------------------------------------------------------------------------\n",
      " new mathematical tools and theories. These advances have allowed us to probe the deepest mysteries of the cosmos, from the smallest particles to the largest structures.\n",
      "\n",
      "At the heart of our understanding of the universe lies a set of fundamental equations. These equations describe the laws of physics that govern the behavior of matter, energy, space, and time. By solving these equations, we can make predictions about the evolution and structure of the universe.\n",
      "\n",
      "### The Fundamental Equations\n",
      "\n",
      "The most fundamental equation in physics is the Einstein field equations, which describe the relationship between the curvature of spacetime and the distribution of mass and energy. This equation is the foundation of general relativity\n",
      "----------------------------------------------------------------------------------------------------\n",
      ", which is our current theory of gravity.\n",
      "\n",
      "Another fundamental equation is the Schrödinger equation, which describes the wave-particle duality of matter. This equation is the foundation of quantum mechanics, which is our current theory of the microscopic world.\n",
      "\n",
      "These two equations, along with a few others, provide a complete description of the fundamental laws of physics. By solving these equations, we can make predictions about a wide range of phenomena, from the motion of planets to the behavior of atoms.\n",
      "\n",
      "### The Evolution of the Universe\n",
      "\n",
      "The fundamental equations of physics can be used to describe the evolution of the universe. By solving these equations, we can trace the history of the universe from its earliest moments to the present day.\n",
      "\n",
      "The universe began about 13.8 billion years ago with the Big Bang. This was a period of rapid expansion, during which the universe cooled and matter began to form. Over time, the universe continued to expand and cool, and galaxies, stars, and planets formed.\n",
      "\n",
      "The evolution of the universe is a complex process, but it can be understood in terms of the fundamental laws of physics. By solving these equations, we can gain insights into the history and future of our universe.\n",
      "\n",
      "### The Structure of the Universe\n",
      "\n",
      "The fundamental equations of physics can\n",
      "----------------------------------------------------------------------------------------------------\n",
      " also be used to describe the structure of the universe. By solving these equations, we can determine the distribution of matter and energy in the universe.\n",
      "\n",
      "The universe is a vast and complex place, but it is not entirely chaotic. There is a large-scale structure to the universe, with galaxies and clusters of galaxies arranged in a web-like pattern. This structure is a consequence of the fundamental laws of physics.\n",
      "\n",
      "By understanding the mathematical foundation of our universe, we can gain insights into its evolution and structure. The fundamental equations of physics provide a powerful tool for exploring the mysteries of the cosmos.\n",
      "\n",
      "### Conclusion\n",
      "\n",
      "The mathematical foundation of our universe is a complex and fascinating subject. By studying these equations, we can gain a deeper understanding of the universe we live in. The fundamental laws of physics are a testament to the power of mathematics to describe the natural world.\n",
      "----------------------------------------------------------------------------------------------------\n"
     ]
    }
   ],
   "source": [
    "# Send a prompt requiring detailed, continuous output\n",
    "prompt = 'Write a scientific paper outlining the mathematical foundation of our universe.'\n",
    "for chunk in llm.stream(prompt):\n",
    "    print(chunk.content)\n",
    "    print('-' * 100)"
   ]
  }
 ],
 "metadata": {
  "kernelspec": {
   "display_name": "Python 3",
   "language": "python",
   "name": "python3"
  },
  "language_info": {
   "codemirror_mode": {
    "name": "ipython",
    "version": 3
   },
   "file_extension": ".py",
   "mimetype": "text/x-python",
   "name": "python",
   "nbconvert_exporter": "python",
   "pygments_lexer": "ipython3",
   "version": "3.11.9"
  }
 },
 "nbformat": 4,
 "nbformat_minor": 2
}

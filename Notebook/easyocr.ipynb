{
 "cells": [
  {
   "cell_type": "code",
   "execution_count": null,
   "metadata": {},
   "outputs": [],
   "source": [
    "import easyocr\n",
    "\n",
    "# Create an OCR reader object\n",
    "reader = easyocr.Reader(['en'])\n",
    "\n",
    "# Read text from an image\n",
    "result = reader.readtext('image.jpg')\n",
    "\n",
    "# Print the extracted text\n",
    "for detection in result:\n",
    "    print(detection[1])"
   ]
  },
  {
   "cell_type": "code",
   "execution_count": 2,
   "metadata": {},
   "outputs": [
    {
     "name": "stderr",
     "output_type": "stream",
     "text": [
      "C:\\Users\\georg\\AppData\\Local\\Temp\\ipykernel_7108\\1483341417.py:19: LangChainDeprecationWarning: The class `LLMChain` was deprecated in LangChain 0.1.17 and will be removed in 1.0. Use :meth:`~RunnableSequence, e.g., `prompt | llm`` instead.\n",
      "  summarization_chain = LLMChain(\n",
      "Neither CUDA nor MPS are available - defaulting to CPU. Note: This module is much faster with a GPU.\n",
      "C:\\Users\\georg\\AppData\\Local\\Temp\\ipykernel_7108\\1483341417.py:35: LangChainDeprecationWarning: The method `Chain.run` was deprecated in langchain 0.1.0 and will be removed in 1.0. Use :meth:`~invoke` instead.\n",
      "  ocr_summary = summarization_chain.run({\"content\": ocr_text_combined})\n"
     ]
    },
    {
     "name": "stdout",
     "output_type": "stream",
     "text": [
      "\n",
      "\n",
      "\u001b[1m> Entering new LLMChain chain...\u001b[0m\n",
      "Prompt after formatting:\n",
      "\u001b[32;1m\u001b[1;3mDon't add or remove content, also eliminate duplicate content, and format the following content:\n",
      "\n",
      "It was the best of times, it was the worst of times, it was the age of wisdom; it was the age of foolishness .\u001b[0m\n",
      "\n",
      "\u001b[1m> Finished chain.\u001b[0m\n",
      "Markdown content saved to image_with_ocr.md\n"
     ]
    }
   ],
   "source": [
    "import os\n",
    "import easyocr\n",
    "from dotenv import load_dotenv\n",
    "from langchain_google_genai import ChatGoogleGenerativeAI\n",
    "from langchain.prompts import PromptTemplate\n",
    "from langchain.chains import LLMChain\n",
    "\n",
    "# Load environment variables\n",
    "load_dotenv()\n",
    "\n",
    "# Initialize Gemini LLM\n",
    "GOOGLE_API_KEY = os.getenv(\"GOOGLE_API_KEY\")\n",
    "llm = ChatGoogleGenerativeAI(model=\"gemini-pro\", google_api_key=GOOGLE_API_KEY)\n",
    "\n",
    "# Define a prompt for summarization\n",
    "summarization_prompt = PromptTemplate.from_template(\n",
    "    \"Don't add or remove content, also eliminate duplicate content, and format the following content:\\n\\n{content}\"\n",
    ")\n",
    "summarization_chain = LLMChain(\n",
    "    llm=llm, prompt=summarization_prompt, verbose=True)\n",
    "\n",
    "# Function to process a single image and perform OCR\n",
    "\n",
    "\n",
    "def process_single_image_with_gemini(image_path):\n",
    "    reader = easyocr.Reader(['en'])\n",
    "\n",
    "    # Perform OCR on the image\n",
    "    ocr_text = reader.readtext(image_path, detail=0)\n",
    "    ocr_text_combined = ' '.join(ocr_text)\n",
    "\n",
    "    # Summarize OCR results using Gemini\n",
    "    markdown_content = \"\"\n",
    "    if ocr_text_combined.strip():\n",
    "        ocr_summary = summarization_chain.run({\"content\": ocr_text_combined})\n",
    "        markdown_content += f\"## OCR Summary for {image_path}\\n\\n{ocr_summary}\\n\\n\"\n",
    "\n",
    "    return markdown_content\n",
    "\n",
    "\n",
    "if __name__ == \"__main__\":\n",
    "    # Provide the image file path\n",
    "    image_path = \"image.jpg\"\n",
    "\n",
    "    # Process the image and generate Markdown\n",
    "    result = process_single_image_with_gemini(image_path)\n",
    "\n",
    "    # Save the Markdown to a file\n",
    "    output_md = \"image_with_ocr.md\"\n",
    "    with open(output_md, \"w\", encoding=\"utf-8\") as file:\n",
    "        file.write(result)\n",
    "\n",
    "    print(f\"Markdown content saved to {output_md}\")"
   ]
  }
 ],
 "metadata": {
  "kernelspec": {
   "display_name": "Python 3",
   "language": "python",
   "name": "python3"
  },
  "language_info": {
   "codemirror_mode": {
    "name": "ipython",
    "version": 3
   },
   "file_extension": ".py",
   "mimetype": "text/x-python",
   "name": "python",
   "nbconvert_exporter": "python",
   "pygments_lexer": "ipython3",
   "version": "3.11.9"
  }
 },
 "nbformat": 4,
 "nbformat_minor": 2
}
